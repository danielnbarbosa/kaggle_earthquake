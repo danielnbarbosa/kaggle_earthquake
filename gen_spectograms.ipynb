{
 "cells": [
  {
   "cell_type": "markdown",
   "metadata": {},
   "source": [
    "#### Setup"
   ]
  },
  {
   "cell_type": "code",
   "execution_count": 1,
   "metadata": {},
   "outputs": [],
   "source": [
    "%reload_ext autoreload\n",
    "%autoreload 2\n",
    "%matplotlib inline"
   ]
  },
  {
   "cell_type": "code",
   "execution_count": 2,
   "metadata": {},
   "outputs": [],
   "source": [
    "import os\n",
    "import shutil\n",
    "import pathlib\n",
    "import pandas as pd\n",
    "import numpy as np\n",
    "from tqdm import tqdm\n",
    "import matplotlib.pyplot as plt"
   ]
  },
  {
   "cell_type": "code",
   "execution_count": 3,
   "metadata": {},
   "outputs": [],
   "source": [
    "import librosa\n",
    "import librosa.display\n",
    "from pyts.image import GASF, GADF, MTF, RecurrencePlots"
   ]
  },
  {
   "cell_type": "markdown",
   "metadata": {},
   "source": [
    "#### Download dataset"
   ]
  },
  {
   "cell_type": "code",
   "execution_count": 4,
   "metadata": {},
   "outputs": [],
   "source": [
    "path = pathlib.Path.home()/'.fastai/data/kaggle_earthquake'"
   ]
  },
  {
   "cell_type": "code",
   "execution_count": 5,
   "metadata": {},
   "outputs": [
    {
     "name": "stdout",
     "output_type": "stream",
     "text": [
      "sample_submission.csv: Skipping, found more recently modified local copy (use --force to force download)\n",
      "test.zip: Skipping, found more recently modified local copy (use --force to force download)\n",
      "train.csv.zip: Skipping, found more recently modified local copy (use --force to force download)\n"
     ]
    }
   ],
   "source": [
    "! mkdir -p $path;\n",
    "! kaggle competitions download -c LANL-Earthquake-Prediction -p $path\n",
    "! cd $path; if [ ! -f train.csv ]; then unzip -n -q train.csv.zip; fi\n",
    "! cd $path; if [ ! -d test ]; then unzip -n -q test.zip; mkdir test; mv seg* test; fi"
   ]
  },
  {
   "cell_type": "code",
   "execution_count": 6,
   "metadata": {},
   "outputs": [
    {
     "data": {
      "text/plain": [
       "['sample_submission.csv',\n",
       " 'test.zip',\n",
       " 'train.csv.zip',\n",
       " 'train.csv',\n",
       " 'X_train.csv',\n",
       " 'y_train.csv',\n",
       " 'saved_models',\n",
       " 'train',\n",
       " 'train_images',\n",
       " 'train_images_224',\n",
       " 'test_images',\n",
       " 'test_images_224',\n",
       " 'submission.csv',\n",
       " 'submission_v6.csv',\n",
       " 'test']"
      ]
     },
     "execution_count": 6,
     "metadata": {},
     "output_type": "execute_result"
    }
   ],
   "source": [
    "os.listdir(path)"
   ]
  },
  {
   "cell_type": "markdown",
   "metadata": {},
   "source": [
    "#### Load training data"
   ]
  },
  {
   "cell_type": "code",
   "execution_count": null,
   "metadata": {},
   "outputs": [],
   "source": [
    "rows = 150_000\n",
    "train = pd.read_csv(path/'train.csv', dtype={'acoustic_data': np.int16, 'time_to_failure': np.float64})"
   ]
  },
  {
   "cell_type": "code",
   "execution_count": null,
   "metadata": {},
   "outputs": [],
   "source": [
    "segments = int(np.floor(train.shape[0] / rows))\n",
    "segments"
   ]
  },
  {
   "cell_type": "code",
   "execution_count": null,
   "metadata": {},
   "outputs": [],
   "source": [
    "pd.options.display.precision = 15"
   ]
  },
  {
   "cell_type": "code",
   "execution_count": null,
   "metadata": {},
   "outputs": [],
   "source": [
    "train.head()"
   ]
  },
  {
   "cell_type": "markdown",
   "metadata": {},
   "source": [
    "#### Write out per segement csv for training set"
   ]
  },
  {
   "cell_type": "code",
   "execution_count": null,
   "metadata": {},
   "outputs": [],
   "source": [
    "train_path = path/'train'\n",
    "# assume if the dir exists then all the files are there\n",
    "if not os.path.isdir(train_path):\n",
    "    os.mkdir(train_path)\n",
    "        \n",
    "    for n in tqdm(range(segments)):\n",
    "        seg = train.iloc[n*rows:n*rows+rows]['acoustic_data']\n",
    "        seg.to_csv(train_path/f'seg_{n}.csv', header='acoustic_data', index=False)"
   ]
  },
  {
   "cell_type": "code",
   "execution_count": null,
   "metadata": {},
   "outputs": [],
   "source": [
    "len(os.listdir(train_path))"
   ]
  },
  {
   "cell_type": "markdown",
   "metadata": {},
   "source": [
    "#### Create per segment features"
   ]
  },
  {
   "cell_type": "code",
   "execution_count": null,
   "metadata": {},
   "outputs": [],
   "source": [
    "X_train = pd.DataFrame(index=range(segments), dtype=np.float64,\n",
    "                       columns=['ave', 'std', 'max', 'min'])\n",
    "y_train = pd.DataFrame(index=range(segments), dtype=np.float64,\n",
    "                       columns=['time_to_failure'])"
   ]
  },
  {
   "cell_type": "code",
   "execution_count": null,
   "metadata": {},
   "outputs": [],
   "source": [
    "for segment in tqdm(range(segments)):\n",
    "    seg = train.iloc[segment*rows:segment*rows+rows]\n",
    "    x = seg['acoustic_data'].values\n",
    "    y = seg['time_to_failure'].values[-1]\n",
    "    \n",
    "    y_train.loc[segment, 'time_to_failure'] = y\n",
    "    \n",
    "    X_train.loc[segment, 'ave'] = x.mean()\n",
    "    X_train.loc[segment, 'std'] = x.std()\n",
    "    X_train.loc[segment, 'max'] = x.max()\n",
    "    X_train.loc[segment, 'min'] = x.min()"
   ]
  },
  {
   "cell_type": "code",
   "execution_count": null,
   "metadata": {},
   "outputs": [],
   "source": [
    "X_train.head()"
   ]
  },
  {
   "cell_type": "code",
   "execution_count": null,
   "metadata": {},
   "outputs": [],
   "source": [
    "y_train.head()"
   ]
  },
  {
   "cell_type": "code",
   "execution_count": null,
   "metadata": {},
   "outputs": [],
   "source": [
    "# plot histogram of training set\n",
    "def plot_histogram(targs):\n",
    "    fig, (ax1) = plt.subplots(1, figsize=(12, 8))\n",
    "    fig.suptitle(\"Histograms of segment's time to failure\")\n",
    "    ax1.hist(targs, bins=100); ax1.set_xlabel('targs TTF'); ax1.set_ylabel('No. of segments')"
   ]
  },
  {
   "cell_type": "code",
   "execution_count": null,
   "metadata": {},
   "outputs": [],
   "source": [
    "plot_histogram(np.array(y_train['time_to_failure']))"
   ]
  },
  {
   "cell_type": "markdown",
   "metadata": {},
   "source": [
    "#### Write out per segment CSVs"
   ]
  },
  {
   "cell_type": "code",
   "execution_count": null,
   "metadata": {},
   "outputs": [],
   "source": [
    "X_train.to_csv(path/'X_train.csv')"
   ]
  },
  {
   "cell_type": "code",
   "execution_count": null,
   "metadata": {},
   "outputs": [],
   "source": [
    "y_train.to_csv(path/'y_train.csv')"
   ]
  },
  {
   "cell_type": "markdown",
   "metadata": {},
   "source": [
    "#### Visualize acoustic data and spectogram"
   ]
  },
  {
   "cell_type": "code",
   "execution_count": null,
   "metadata": {},
   "outputs": [],
   "source": [
    "# actual sample rate is 4_000_000\n",
    "sample_rate = 40000"
   ]
  },
  {
   "cell_type": "code",
   "execution_count": null,
   "metadata": {},
   "outputs": [],
   "source": [
    "def plot_segment(segment):\n",
    "    seg = train.iloc[segment*rows:segment*rows+rows]['acoustic_data']\n",
    "    plt.figure()\n",
    "    \n",
    "    plt.subplot(2, 1, 1)\n",
    "    plt.plot(seg)\n",
    "    \n",
    "    plt.subplot(2, 1, 2)\n",
    "    seg = np.array(seg, dtype=np.float)\n",
    "    S = librosa.feature.melspectrogram(y=seg, sr=sample_rate)\n",
    "    librosa.display.specshow(librosa.power_to_db(S, ref=np.max), sr=sample_rate, y_axis='linear', x_axis='time')\n",
    "    #plt.colorbar(format='%+2.0f dB')"
   ]
  },
  {
   "cell_type": "code",
   "execution_count": null,
   "metadata": {},
   "outputs": [],
   "source": [
    "for i in range(5):\n",
    "    plot_segment(i)"
   ]
  },
  {
   "cell_type": "markdown",
   "metadata": {},
   "source": [
    "#### Image generation helper functions"
   ]
  },
  {
   "cell_type": "code",
   "execution_count": 28,
   "metadata": {},
   "outputs": [],
   "source": [
    "def create_images_from_segment(segment, input_path):\n",
    "    transforms = ['spectogram', 'gadf', 'gasf']\n",
    "    \n",
    "    # load segment\n",
    "    seg = pd.read_csv(input_path/f'{segment}')\n",
    "    seg = seg['acoustic_data']\n",
    "    seg = np.array(seg, dtype=np.float)\n",
    "        \n",
    "    for transform in transforms:\n",
    "        # create plot\n",
    "        fig = plt.figure(figsize=[0.742, 0.742])\n",
    "        ax = fig.add_subplot(111)\n",
    "        ax.axes.get_xaxis().set_visible(False)\n",
    "        ax.axes.get_yaxis().set_visible(False)\n",
    "        ax.set_frame_on(False)\n",
    "\n",
    "        # generate spectogram\n",
    "        if transform == 'spectogram':\n",
    "            sample_rate = 40000\n",
    "            S = librosa.feature.melspectrogram(y=seg, sr=sample_rate)\n",
    "            librosa.display.specshow(librosa.power_to_db(S, ref=np.max), sr=sample_rate)\n",
    "\n",
    "        # generate gramian angular difference field\n",
    "        if transform == 'gadf':\n",
    "            image_size = 224\n",
    "            gadf = GADF(image_size)\n",
    "            img = gadf.fit_transform(seg.reshape(1, -1)).squeeze()\n",
    "            ax.imshow(img, cmap='viridis', origin='lower')\n",
    "\n",
    "        # generate gramian angular summation field\n",
    "        if transform == 'gasf':\n",
    "            image_size = 224\n",
    "            gasf = GASF(image_size)\n",
    "            img = gasf.fit_transform(seg.reshape(1, -1)).squeeze()\n",
    "            ax.imshow(img, cmap='rainbow', origin='lower')\n",
    "\n",
    "        # save image\n",
    "        output_path = pathlib.Path(f'{input_path}_images/{transform}')\n",
    "        os.makedirs(output_path, exist_ok=True)\n",
    "        plt.savefig(output_path/f'{segment}'.replace('.csv', '.png'),\n",
    "                    dpi=400, bbox_inches='tight', pad_inches=0)\n",
    "        plt.close('all')"
   ]
  },
  {
   "cell_type": "markdown",
   "metadata": {},
   "source": [
    "#### Generate an image for each segment in training set"
   ]
  },
  {
   "cell_type": "code",
   "execution_count": 29,
   "metadata": {},
   "outputs": [
    {
     "name": "stderr",
     "output_type": "stream",
     "text": [
      "100%|██████████| 4194/4194 [22:48<00:00,  3.10it/s] \n"
     ]
    }
   ],
   "source": [
    "train_path = path/'train'\n",
    "segments = os.listdir(train_path)\n",
    "for segment in tqdm(segments):\n",
    "    create_images_from_segment(segment, train_path)"
   ]
  },
  {
   "cell_type": "markdown",
   "metadata": {},
   "source": [
    "#### Generate an image for each segment in test set"
   ]
  },
  {
   "cell_type": "code",
   "execution_count": 30,
   "metadata": {},
   "outputs": [
    {
     "name": "stderr",
     "output_type": "stream",
     "text": [
      "100%|██████████| 2624/2624 [14:28<00:00,  3.02it/s] \n"
     ]
    }
   ],
   "source": [
    "test_path = path/'test'\n",
    "segments = os.listdir(test_path)\n",
    "for segment in tqdm(segments):\n",
    "    create_images_from_segment(segment, test_path)"
   ]
  },
  {
   "cell_type": "code",
   "execution_count": null,
   "metadata": {},
   "outputs": [],
   "source": []
  },
  {
   "cell_type": "code",
   "execution_count": null,
   "metadata": {},
   "outputs": [],
   "source": []
  },
  {
   "cell_type": "code",
   "execution_count": null,
   "metadata": {},
   "outputs": [],
   "source": []
  },
  {
   "cell_type": "code",
   "execution_count": null,
   "metadata": {},
   "outputs": [],
   "source": []
  },
  {
   "cell_type": "code",
   "execution_count": null,
   "metadata": {},
   "outputs": [],
   "source": []
  },
  {
   "cell_type": "code",
   "execution_count": null,
   "metadata": {},
   "outputs": [],
   "source": []
  },
  {
   "cell_type": "markdown",
   "metadata": {},
   "source": [
    "## IDEAS"
   ]
  },
  {
   "cell_type": "markdown",
   "metadata": {},
   "source": [
    "#### Consider tempo and beat times as features"
   ]
  },
  {
   "cell_type": "code",
   "execution_count": null,
   "metadata": {},
   "outputs": [],
   "source": [
    "tempo, beat_frames = librosa.beat.beat_track(y=seg1)\n",
    "beat_times = librosa.frames_to_time(beat_frames)"
   ]
  },
  {
   "cell_type": "markdown",
   "metadata": {},
   "source": [
    "#### Set correct sample rate at 4MHz"
   ]
  },
  {
   "cell_type": "code",
   "execution_count": null,
   "metadata": {},
   "outputs": [],
   "source": [
    "sample_rate = 4_000_000\n",
    "segment = 0\n",
    "seg = train.iloc[segment*rows:segment*rows+rows]['acoustic_data']\n",
    "seg = np.array(seg, dtype=np.float)\n",
    "S = librosa.feature.melspectrogram(y=seg, sr=sample_rate)\n",
    "librosa.display.specshow(librosa.power_to_db(S, ref=np.max), sr=sample_rate, y_axis='linear', x_axis='time')"
   ]
  },
  {
   "cell_type": "code",
   "execution_count": null,
   "metadata": {},
   "outputs": [],
   "source": [
    "S.shape"
   ]
  },
  {
   "cell_type": "markdown",
   "metadata": {},
   "source": [
    "Throws this errror:\n",
    "```\n",
    "/anaconda3/envs/fastai/lib/python3.6/site-packages/librosa/filters.py:284: UserWarning: Empty filters detected in mel frequency basis. Some channels will produce empty responses. Try increasing your sampling rate (and fmax) or reducing n_mels.\n",
    "  warnings.warn('Empty filters detected in mel frequency basis. '\n",
    "```"
   ]
  },
  {
   "cell_type": "markdown",
   "metadata": {},
   "source": [
    "#### Use different type of spectogram more suited to seiesmology"
   ]
  },
  {
   "cell_type": "code",
   "execution_count": null,
   "metadata": {},
   "outputs": [],
   "source": []
  },
  {
   "cell_type": "markdown",
   "metadata": {},
   "source": [
    "#### Visualize raw acoustic data"
   ]
  },
  {
   "cell_type": "code",
   "execution_count": null,
   "metadata": {},
   "outputs": [],
   "source": [
    "for segment in range(5):\n",
    "    seg = train.iloc[segment*rows:segment*rows+rows]['acoustic_data']\n",
    "    plt.figure()\n",
    "    plt.plot(seg)"
   ]
  },
  {
   "cell_type": "markdown",
   "metadata": {},
   "source": [
    "#### Visualize spectogram"
   ]
  },
  {
   "cell_type": "code",
   "execution_count": null,
   "metadata": {},
   "outputs": [],
   "source": [
    "# actual sample rate is 4_000_000\n",
    "sample_rate = 40_000\n",
    "for segment in range(5):\n",
    "    seg = train.iloc[segment*rows:segment*rows+rows]['acoustic_data']\n",
    "    seg = np.array(seg, dtype=np.float)\n",
    "    S = librosa.feature.melspectrogram(y=seg, sr=sample_rate)\n",
    "    plt.figure()\n",
    "    librosa.display.specshow(librosa.power_to_db(S, ref=np.max), sr=sample_rate, y_axis='linear', x_axis='time')"
   ]
  },
  {
   "cell_type": "markdown",
   "metadata": {},
   "source": [
    "#### Old image generation code for train dataset"
   ]
  },
  {
   "cell_type": "code",
   "execution_count": null,
   "metadata": {},
   "outputs": [],
   "source": [
    "for segment in tqdm(range(segments)):\n",
    "    # generate plot\n",
    "    fig = plt.figure(figsize=[0.72,0.72])\n",
    "    ax = fig.add_subplot(111)\n",
    "    ax.axes.get_xaxis().set_visible(False)\n",
    "    ax.axes.get_yaxis().set_visible(False)\n",
    "    ax.set_frame_on(False)\n",
    "    # generate spectogram\n",
    "    seg = train.iloc[segment*rows:segment*rows+rows]['acoustic_data']\n",
    "    seg = np.array(seg, dtype=np.float)\n",
    "    S = librosa.feature.melspectrogram(y=seg, sr=sample_rate)\n",
    "    librosa.display.specshow(librosa.power_to_db(S, ref=np.max), sr=sample_rate)\n",
    "    # save file\n",
    "    plt.savefig(img_path/f'seg_{segment}.png', dpi=400, bbox_inches='tight', pad_inches=0)\n",
    "    plt.close('all')"
   ]
  },
  {
   "cell_type": "markdown",
   "metadata": {},
   "source": [
    "#### Old resize code"
   ]
  },
  {
   "cell_type": "code",
   "execution_count": null,
   "metadata": {},
   "outputs": [],
   "source": [
    "# pre-resize images to match model input\n",
    "def resize_images(input_path, output_path, size):\n",
    "    # create dir\n",
    "    os.makedirs(output_path, exist_ok=True)\n",
    "    # duplicate files\n",
    "    files = os.listdir(input_path)\n",
    "    for file in files:\n",
    "        shutil.copyfile(input_path/file, output_path/file)\n",
    "    # resize with mogrify\n",
    "    ! cd $output_path; mogrify -resize $size -gravity center -extent $size *png"
   ]
  }
 ],
 "metadata": {
  "kernelspec": {
   "display_name": "Python 3",
   "language": "python",
   "name": "python3"
  },
  "language_info": {
   "codemirror_mode": {
    "name": "ipython",
    "version": 3
   },
   "file_extension": ".py",
   "mimetype": "text/x-python",
   "name": "python",
   "nbconvert_exporter": "python",
   "pygments_lexer": "ipython3",
   "version": "3.6.7"
  },
  "toc": {
   "nav_menu": {},
   "number_sections": true,
   "sideBar": true,
   "skip_h1_title": false,
   "title_cell": "Table of Contents",
   "title_sidebar": "Contents",
   "toc_cell": false,
   "toc_position": {},
   "toc_section_display": true,
   "toc_window_display": false
  }
 },
 "nbformat": 4,
 "nbformat_minor": 2
}
